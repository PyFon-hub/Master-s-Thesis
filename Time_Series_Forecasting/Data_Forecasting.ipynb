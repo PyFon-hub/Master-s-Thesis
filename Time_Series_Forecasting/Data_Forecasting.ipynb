{
 "cells": [
  {
   "cell_type": "code",
   "execution_count": 1,
   "metadata": {},
   "outputs": [],
   "source": [
    "import pandas as pd\n",
    "import numpy as np\n",
    "import matplotlib.pyplot as plt\n",
    "import seaborn as sns\n",
    "\n",
    "from sklearn.impute import KNNImputer, SimpleImputer\n",
    "\n",
    "import warnings\n",
    "warnings.simplefilter(action='ignore', category=FutureWarning)\n",
    "\n",
    "sns.set_style(\"darkgrid\")\n",
    "# Set the random seed for reproducibility\n",
    "np.random.seed(0)"
   ]
  },
  {
   "cell_type": "code",
   "execution_count": 25,
   "metadata": {},
   "outputs": [
    {
     "data": {
      "text/plain": [
       "Index([], dtype='object')"
      ]
     },
     "execution_count": 25,
     "metadata": {},
     "output_type": "execute_result"
    }
   ],
   "source": [
    "df = pd.read_csv('../Data_for_ML/LOCFnB_Andhra_Pradesh.csv', index_col= 'datetime')\n",
    "df.index = pd.to_datetime(df.index)\n",
    "df.columns[df.isna().mean() > 0]"
   ]
  },
  {
   "cell_type": "code",
   "execution_count": 26,
   "metadata": {},
   "outputs": [
    {
     "data": {
      "text/plain": [
       "Index([], dtype='object')"
      ]
     },
     "execution_count": 26,
     "metadata": {},
     "output_type": "execute_result"
    }
   ],
   "source": [
    "df = pd.read_csv('../Data_for_ML/kNN_Andhra_Pradesh.csv', index_col= 'datetime')\n",
    "df.index = pd.to_datetime(df.index)\n",
    "df.columns[df.isna().mean() > 0]"
   ]
  },
  {
   "cell_type": "code",
   "execution_count": 27,
   "metadata": {},
   "outputs": [
    {
     "data": {
      "text/plain": [
       "Index([], dtype='object')"
      ]
     },
     "execution_count": 27,
     "metadata": {},
     "output_type": "execute_result"
    }
   ],
   "source": [
    "df = pd.read_csv('../Data_for_ML/Mean_Andhra_Pradesh.csv', index_col= 'datetime')\n",
    "df.index = pd.to_datetime(df.index)\n",
    "df.columns[df.isna().mean() > 0]"
   ]
  },
  {
   "cell_type": "code",
   "execution_count": 28,
   "metadata": {},
   "outputs": [
    {
     "data": {
      "text/plain": [
       "Index([], dtype='object')"
      ]
     },
     "execution_count": 28,
     "metadata": {},
     "output_type": "execute_result"
    }
   ],
   "source": [
    "df = pd.read_csv('../Data_for_ML/Linear_interpolation_Andhra_Pradesh.csv', index_col= 'datetime')\n",
    "df.index = pd.to_datetime(df.index)\n",
    "df.columns[df.isna().mean() > 0]"
   ]
  },
  {
   "cell_type": "markdown",
   "metadata": {},
   "source": [
    "$\\textbf{Date Component Features} \\\\$\n",
    "Let's prepare dataset by enhancing it with useful features and separating it into training/testing splits."
   ]
  },
  {
   "cell_type": "code",
   "execution_count": null,
   "metadata": {},
   "outputs": [],
   "source": [
    "def create_date_features(df):\n",
    "    df = df.copy()\n",
    "    df['hour']       = df.index.hour\n",
    "    df['dayofmonth'] = df.index.day\n",
    "    df['dayofweek']  = df.index.dayofweek\n",
    "    df['dayofyear']  = df.index.dayofyear\n",
    "    df['weekofyear'] = df.index.isocalendar().week.astype(\"int64\")\n",
    "    df['month']      = df.index.month\n",
    "    df['quarter']    = df.index.quarter\n",
    "    df['year']       = df.index.year\n",
    "    return df"
   ]
  },
  {
   "cell_type": "code",
   "execution_count": null,
   "metadata": {},
   "outputs": [],
   "source": [
    "date_features = ['hour', 'dayofmonth', 'dayofweek', 'dayofyear', 'weekofyear', 'month', 'quarter', 'year']\n",
    "df = create_features(df)"
   ]
  }
 ],
 "metadata": {
  "kernelspec": {
   "display_name": "Python 3",
   "language": "python",
   "name": "python3"
  },
  "language_info": {
   "codemirror_mode": {
    "name": "ipython",
    "version": 3
   },
   "file_extension": ".py",
   "mimetype": "text/x-python",
   "name": "python",
   "nbconvert_exporter": "python",
   "pygments_lexer": "ipython3",
   "version": "3.12.3"
  }
 },
 "nbformat": 4,
 "nbformat_minor": 2
}
