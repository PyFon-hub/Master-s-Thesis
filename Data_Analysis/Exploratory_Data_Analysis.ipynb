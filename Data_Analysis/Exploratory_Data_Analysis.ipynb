{
 "cells": [
  {
   "cell_type": "markdown",
   "metadata": {},
   "source": [
    "$\\textbf{LIBRARIES}$"
   ]
  },
  {
   "cell_type": "code",
   "execution_count": 75,
   "metadata": {},
   "outputs": [],
   "source": [
    "import numpy as np\n",
    "import pandas as pd\n",
    "import matplotlib.pyplot as plt\n",
    "import seaborn as sns\n",
    "import os\n",
    "\n",
    "import warnings\n",
    "warnings.simplefilter(action='ignore', category=FutureWarning)"
   ]
  },
  {
   "cell_type": "code",
   "execution_count": 76,
   "metadata": {},
   "outputs": [],
   "source": [
    "def sep_print(): print('='*100)"
   ]
  },
  {
   "cell_type": "code",
   "execution_count": 77,
   "metadata": {},
   "outputs": [],
   "source": [
    "path = \"../Data/\""
   ]
  },
  {
   "cell_type": "markdown",
   "metadata": {},
   "source": [
    "Quick look into data"
   ]
  },
  {
   "cell_type": "code",
   "execution_count": 78,
   "metadata": {},
   "outputs": [
    {
     "name": "stdout",
     "output_type": "stream",
     "text": [
      "Index(['file_name', 'state', 'city', 'agency', 'station_location',\n",
      "       'start_month', 'start_month_num', 'start_year'],\n",
      "      dtype='object')\n",
      "====================================================================================================\n",
      "  file_name           state        city agency          station_location  \\\n",
      "0     AP001  Andhra Pradesh    Tirupati  APPCB       Tirumala, Tirupati    \n",
      "1     AP002  Andhra Pradesh  Vijayawada  APPCB  PWD Grounds, Vijayawada    \n",
      "\n",
      "  start_month  start_month_num  start_year  \n",
      "0        July                7        2016  \n",
      "1         May                5        2017  \n"
     ]
    }
   ],
   "source": [
    "df_states = pd.read_csv(path + 'stations_info.csv')\n",
    "print(df_states.columns)\n",
    "\n",
    "sep_print()\n",
    "print(df_states.head(2))"
   ]
  },
  {
   "cell_type": "markdown",
   "metadata": {},
   "source": [
    "I have a lot of data, so we're going to choose only one state for analysis. \n",
    "I'm looking for the state that has the minimum number of agencies (each agency can have different measurements or columns name for the same feature, so choosing one will be easier) and the most data available and similar number of columns."
   ]
  },
  {
   "cell_type": "code",
   "execution_count": 79,
   "metadata": {},
   "outputs": [],
   "source": [
    "sum_dict = dict()\n",
    "max_dict = dict()\n",
    "min_dict = dict()\n",
    "\n",
    "for i in os.listdir(path):\n",
    "\n",
    "    if not i.endswith(\".csv\"):\n",
    "        next\n",
    "\n",
    "    prefix = i[:2]\n",
    "    val = pd.read_csv(path + i, nrows= 1).shape[1]\n",
    "\n",
    "    if prefix in sum_dict:\n",
    "            sum_dict[prefix] += val\n",
    "            max_dict[prefix] = val if max_dict[prefix] < val else  max_dict[prefix]\n",
    "            min_dict[prefix] = val if min_dict[prefix] > val else  min_dict[prefix]\n",
    "    else:\n",
    "        sum_dict[prefix] = val\n",
    "        max_dict[prefix] = val\n",
    "        min_dict[prefix] = val\n",
    "\n",
    "smm_df = pd.DataFrame({'sum': sum_dict.values(), 'min': min_dict.values(), 'max': max_dict.values()}, index=sum_dict.keys()).sort_values(by= [\"sum\", \"min\", \"max\"])\n"
   ]
  },
  {
   "cell_type": "code",
   "execution_count": 80,
   "metadata": {},
   "outputs": [
    {
     "name": "stdout",
     "output_type": "stream",
     "text": [
      "                             count_agency  count_csv  sum  min  max\n",
      "file_name state                                                    \n",
      "HP        Himachal Pradesh              1          1   23   23   23\n",
      "JK        Jammu and Kashmir             1          1   23   23   23\n",
      "MZ        Mizoram                       1          1   23   23   23\n",
      "NL        Nagaland                      1          1   23   23   23\n",
      "SK        Sikkim                        1          1   24   24   24\n",
      "AR        Arunachal Pradesh             1          1   25   25   25\n",
      "PY        Puducherry                    1          1   25   25   25\n",
      "JH        Jharkhand                     1          2   29   10   19\n",
      "TR        Tripura                       1          2   47   23   24\n",
      "MN        Manipur                       1          2   48   24   24\n",
      "ML        Meghalaya                     1          2   49   24   25\n",
      "UK        Uttarakhand                   1          3   66   16   25\n",
      "CH        Chandigarh                    1          3   70   23   24\n",
      "KL        Kerala                        1          9  176   15   22\n",
      "AS        Assam                         1          9  206   22   24\n",
      "AP        Andhra Pradesh                1         10  241   23   25\n",
      "OR        Odisha                        1         12  233    9   24\n",
      "TG        Telangana                     1         14  319   20   23\n",
      "WB        West Bengal                   1         14  338   20   26\n",
      "BR        Bihar                         1         35  818   20   25\n",
      "RJ        Rajasthan                     1         35  818   22   24\n"
     ]
    }
   ],
   "source": [
    "#Namber of diffrent agencies that measure air quility\n",
    "df_states[\"file_name\"] = df_states[\"file_name\"].apply(lambda x: x[:2])\n",
    "tem_df = df_states[[\"file_name\", \"state\", \"agency\"]].drop_duplicates().groupby([\"file_name\", \"state\"]).count()\n",
    "tem_df = tem_df.join(\n",
    "                pd.value_counts(df_states[\"state\"]),\n",
    "                on = \"state\"\n",
    "            ).join(\n",
    "                smm_df,\n",
    "                on = \"file_name\"\n",
    "            )\n",
    "tem_df.columns = ['count_agency', 'count_csv', 'sum', 'min', 'max']\n",
    "tem_df = tem_df.sort_values(['count_agency', 'count_csv', 'sum', 'min', 'max'], kind= 'heapsort')\n",
    "print(tem_df[tem_df.count_agency == 1])"
   ]
  },
  {
   "cell_type": "markdown",
   "metadata": {},
   "source": [
    "Looking at the output I chose Andhra Pradesh state. The reason is that this state have 10 .csv files within 23 to 25 column with data.\n",
    "Rajasthan state could work too but my laptop wouldn't have been able to manage."
   ]
  },
  {
   "cell_type": "code",
   "execution_count": 81,
   "metadata": {},
   "outputs": [
    {
     "name": "stdout",
     "output_type": "stream",
     "text": [
      "  file_name           state        city  start_month_num  start_year\n",
      "0        AP  Andhra Pradesh    Tirupati                7        2016\n",
      "1        AP  Andhra Pradesh  Vijayawada                5        2017\n"
     ]
    }
   ],
   "source": [
    "try:\n",
    "    df_states.drop(columns= [\"agency\", \"station_location\", \"start_month\"], inplace= True)\n",
    "except:\n",
    "    pass\n",
    "print(df_states.head(2))"
   ]
  },
  {
   "cell_type": "code",
   "execution_count": 82,
   "metadata": {},
   "outputs": [
    {
     "data": {
      "text/plain": [
       "array(['Tirupati', 'Vijayawada', 'Visakhapatnam', 'Rajamahendravaram',\n",
       "       'Amaravati', 'Anantapur', 'Chittoor', 'Kadapa'], dtype=object)"
      ]
     },
     "execution_count": 82,
     "metadata": {},
     "output_type": "execute_result"
    }
   ],
   "source": [
    "df_states[df_states['state'] == 'Andhra Pradesh'].city.unique()"
   ]
  },
  {
   "cell_type": "markdown",
   "metadata": {},
   "source": [
    "We are working with a large dataset which is split in multiple files. \n",
    "First I will create a function that will return a dataframe combining all datasheets measurements in a given state, so will see what data I'm working with."
   ]
  },
  {
   "cell_type": "code",
   "execution_count": 83,
   "metadata": {},
   "outputs": [],
   "source": [
    "#def combine_file_state()"
   ]
  }
 ],
 "metadata": {
  "kernelspec": {
   "display_name": "Python 3",
   "language": "python",
   "name": "python3"
  },
  "language_info": {
   "codemirror_mode": {
    "name": "ipython",
    "version": 3
   },
   "file_extension": ".py",
   "mimetype": "text/x-python",
   "name": "python",
   "nbconvert_exporter": "python",
   "pygments_lexer": "ipython3",
   "version": "3.12.0"
  }
 },
 "nbformat": 4,
 "nbformat_minor": 2
}
